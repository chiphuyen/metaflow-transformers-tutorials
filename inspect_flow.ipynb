{
 "cells": [
  {
   "cell_type": "code",
   "execution_count": 1,
   "id": "9ab79ab1",
   "metadata": {},
   "outputs": [
    {
     "name": "stdout",
     "output_type": "stream",
     "text": [
      "Current metadata provider: local@/Users/chip/dev/outerbounds/metaflow-hf\n"
     ]
    }
   ],
   "source": [
    "from metaflow import Flow, get_metadata, namespace\n",
    "import matplotlib.pyplot as plt\n",
    "print(\"Current metadata provider: %s\" % get_metadata())"
   ]
  },
  {
   "cell_type": "code",
   "execution_count": 2,
   "id": "9cc1f232",
   "metadata": {},
   "outputs": [
    {
     "name": "stdout",
     "output_type": "stream",
     "text": [
      "Using run: Run('SentimentAnalysisFlow/1636596844932211')\n"
     ]
    }
   ],
   "source": [
    "# Set namespace to None to search over all namespaces\n",
    "namespace(None)\n",
    "run = Flow(\"SentimentAnalysisFlow\").latest_successful_run\n",
    "print(\"Using run: %s\" % str(run))"
   ]
  },
  {
   "cell_type": "code",
   "execution_count": 3,
   "id": "9b5847f2",
   "metadata": {},
   "outputs": [
    {
     "data": {
      "text/plain": [
       "<MetaflowData: test_dataset, eval_df, model, train_df, eval_dataset, name, tokenizer, fname, mode, train_dataset, test_df>"
      ]
     },
     "execution_count": 3,
     "metadata": {},
     "output_type": "execute_result"
    }
   ],
   "source": [
    "run.data"
   ]
  },
  {
   "cell_type": "code",
   "execution_count": 4,
   "id": "e23cbbf7",
   "metadata": {},
   "outputs": [],
   "source": [
    "model = run.data.model\n",
    "tokenizer = run.data.tokenizer"
   ]
  },
  {
   "cell_type": "code",
   "execution_count": 5,
   "id": "0b664645",
   "metadata": {},
   "outputs": [],
   "source": [
    "import torch"
   ]
  },
  {
   "cell_type": "code",
   "execution_count": 6,
   "id": "cde1d89d",
   "metadata": {},
   "outputs": [],
   "source": [
    "def predict(model, tokenizer, review):\n",
    "    model.eval()\n",
    "    encoding = run.data.tokenizer(review, padding=True, truncation=True, return_tensors=\"pt\")\n",
    "    output = model(**encoding)\n",
    "    probs = torch.nn.functional.softmax(output[\"logits\"])\n",
    "    pred = torch.argmax(probs).numpy()\n",
    "    sentiment = \"POSITIVE\" if pred == 1 else \"NEGATIVE\"\n",
    "    return sentiment"
   ]
  },
  {
   "cell_type": "code",
   "execution_count": 7,
   "id": "bf4a99a6",
   "metadata": {},
   "outputs": [
    {
     "name": "stderr",
     "output_type": "stream",
     "text": [
      "/var/folders/d0/wr9p61px1kn5cxc4bttc6r7w0000gn/T/ipykernel_19379/3190754762.py:5: UserWarning: Implicit dimension choice for softmax has been deprecated. Change the call to include dim=X as an argument.\n",
      "  probs = torch.nn.functional.softmax(output[\"logits\"])\n"
     ]
    },
    {
     "data": {
      "text/plain": [
       "'NEGATIVE'"
      ]
     },
     "execution_count": 7,
     "metadata": {},
     "output_type": "execute_result"
    }
   ],
   "source": [
    "predict(model, tokenizer, \"This movie is awesome!\")"
   ]
  },
  {
   "cell_type": "code",
   "execution_count": 8,
   "id": "1fb38a67",
   "metadata": {},
   "outputs": [],
   "source": [
    "runs = list(run)"
   ]
  },
  {
   "cell_type": "code",
   "execution_count": 9,
   "id": "ce1c1b2f",
   "metadata": {},
   "outputs": [
    {
     "data": {
      "text/plain": [
       "[Step('SentimentAnalysisFlow/1636596844932211/end'),\n",
       " Step('SentimentAnalysisFlow/1636596844932211/train'),\n",
       " Step('SentimentAnalysisFlow/1636596844932211/tokenize'),\n",
       " Step('SentimentAnalysisFlow/1636596844932211/start')]"
      ]
     },
     "execution_count": 9,
     "metadata": {},
     "output_type": "execute_result"
    }
   ],
   "source": [
    "runs"
   ]
  },
  {
   "cell_type": "code",
   "execution_count": null,
   "id": "7d051db9",
   "metadata": {},
   "outputs": [],
   "source": []
  }
 ],
 "metadata": {
  "kernelspec": {
   "display_name": "Python 3 (ipykernel)",
   "language": "python",
   "name": "python3"
  },
  "language_info": {
   "codemirror_mode": {
    "name": "ipython",
    "version": 3
   },
   "file_extension": ".py",
   "mimetype": "text/x-python",
   "name": "python",
   "nbconvert_exporter": "python",
   "pygments_lexer": "ipython3",
   "version": "3.8.12"
  }
 },
 "nbformat": 4,
 "nbformat_minor": 5
}
